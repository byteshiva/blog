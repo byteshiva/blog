{
 "cells": [
  {
   "cell_type": "markdown",
   "metadata": {},
   "source": [
    "# \"Introducing Tensorflow with NumPy\"\n",
    "\n",
    "> A Single Neuron Network with Tensorflow  and Numpy, and built in python.\n",
    "- author: Siva <byteshiva@gmail.com>\n",
    "- toc: false\n",
    "- image: images/copied_from_nb/fastlinkcheck_images/fastlinkcheck.png\n",
    "- comments: true\n",
    "- categories: [tensorflow, NumPy, Jupyter, Python, Jupyter Notebook]\n",
    "- permalink: /introducingtensorflow/\n",
    "- badges: true"
   ]
  },
  {
   "cell_type": "code",
   "execution_count": null,
   "metadata": {},
   "outputs": [],
   "source": [
    "!pip3 install tensorflow numpy"
   ]
  },
  {
   "cell_type": "code",
   "execution_count": null,
   "metadata": {},
   "outputs": [],
   "source": [
    "import tensorflow as tf\n",
    "import numpy as np\n",
    "# Stop bothersome warnings!\n",
    "import os\n",
    "os.environ['TF_CPP_MIN_LOG_LEVEL'] = '2'\n",
    "\n",
    "fahrenheit_q = np.array([-200, -90, -40,  14, 32, 46, 59, 72, 100],  dtype=float)\n",
    "celsius_a = np.array([-128.8889, -67.77778, -40, -10,  0, 7.777778, 15, 22.22222, 37.77778],  dtype=float)\n",
    "\n",
    "l0 = tf.keras.layers.Dense(units=1, input_shape=[1])\n",
    "model = tf.keras.Sequential([l0])\n",
    "\n",
    "model.compile(loss='mean_squared_error',\n",
    "              optimizer=tf.keras.optimizers.Adam(0.1))\n",
    "history = model.fit(fahrenheit_q, celsius_a, epochs=9000, verbose=False)\n",
    "\n",
    "print(\"-50 (exp: -45.55556)\", model.predict([-50.0]))\n",
    "print(\"0 (exp: -17.77778)\", model.predict([0.0]))\n",
    "print(\"50 (exp: 10)\", model.predict([50.0]))\n",
    "print(\"These are the layer variables: {}\".format(l0.get_weights()))"
   ]
  },
  {
   "cell_type": "code",
   "execution_count": null,
   "metadata": {},
   "outputs": [],
   "source": [
    "import tensorflow as tf\n",
    "import numpy as np\n",
    "# Stop bothersome warnings!\n",
    "import os\n",
    "os.environ['TF_CPP_MIN_LOG_LEVEL'] = '2'\n",
    "\n",
    "fahrenheit_q = np.array([-200, -90, -40,  14, 32, 46, 59, 72, 100],  dtype=float)\n",
    "kelvin_a    = np.array([144.261, 205.372, 233.15, 263.15,  273.15,  280.928, 288.15, 295.372, 310.928],  dtype=float)\n",
    "\n",
    "l0 = tf.keras.layers.Dense(units=1, input_shape=[1])\n",
    "model = tf.keras.Sequential([l0])\n",
    "\n",
    "model.compile(loss='mean_squared_error',\n",
    "              optimizer=tf.keras.optimizers.Adam(0.1))\n",
    "history = model.fit(fahrenheit_q, kelvin_a, epochs=9000, verbose=False)\n",
    "\n",
    "print(\"-50 (exp: 227.594)\", model.predict([-50.0]))\n",
    "print(\"0 (exp: 255.372)\", model.predict([0.0]))\n",
    "print(\"50 (exp: 283.15)\", model.predict([50.0]))\n",
    "print(\"These are the layer variables: {}\".format(l0.get_weights()))"
   ]
  }
 ],
 "metadata": {
  "interpreter": {
   "hash": "edad5e2196af0b7c46dfce190168af7ea602a36d553a3e0cae24334d26ee6b15"
  },
  "kernelspec": {
   "display_name": "Python 3.8.0 64-bit",
   "language": "python",
   "name": "python3"
  },
  "language_info": {
   "name": "python",
   "version": "3.8.0"
  },
  "orig_nbformat": 4
 },
 "nbformat": 4,
 "nbformat_minor": 2
}
