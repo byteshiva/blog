{
 "cells": [
  {
   "cell_type": "markdown",
   "metadata": {},
   "source": [
    "# Rust Notebook KickStarter\n",
    "> A tutorial of RUST for Jupyter notebooks.\n",
    "\n",
    "- toc: true \n",
    "- badges: true\n",
    "- comments: true\n",
    "- categories: [rust, jupyter]"
   ]
  },
  {
   "cell_type": "code",
   "execution_count": 6,
   "metadata": {},
   "outputs": [
    {
     "data": {
      "text/plain": [
       "[2, 2, 4, 6, 10, 16, 26, 42, 68, 110, 178, 288]"
      ]
     },
     "execution_count": 6,
     "metadata": {},
     "output_type": "execute_result"
    }
   ],
   "source": [
    "(1..13).map(fib).collect::<Vec<i32>>()\n"
   ]
  },
  {
   "cell_type": "code",
   "execution_count": 7,
   "metadata": {},
   "outputs": [
    {
     "data": {
      "text/plain": [
       "[2, 2, 4, 6, 10, 16, 26, 42, 68, 110, 178, 288]"
      ]
     },
     "execution_count": 7,
     "metadata": {},
     "output_type": "execute_result"
    }
   ],
   "source": [
    "let values = (1..13).map(fib).collect::<Vec<i32>>();\n",
    "values"
   ]
  },
  {
   "cell_type": "code",
   "execution_count": 8,
   "metadata": {},
   "outputs": [],
   "source": [
    "use std::sync::{Mutex, Arc};\n",
    "let counter = Arc::new(Mutex::new(0i32));\n",
    "std::thread::spawn({\n",
    "    let counter = Arc::clone(&counter);\n",
    "    move || {\n",
    "        for i in 1..300 {\n",
    "            *counter.lock().unwrap() += 1;\n",
    "            std::thread::sleep(std::time::Duration::from_millis(100));\n",
    "        }\n",
    "}});\n"
   ]
  },
  {
   "cell_type": "code",
   "execution_count": 9,
   "metadata": {},
   "outputs": [
    {
     "data": {
      "text/plain": [
       "209"
      ]
     },
     "execution_count": 9,
     "metadata": {},
     "output_type": "execute_result"
    }
   ],
   "source": [
    "*counter.lock()?\n"
   ]
  },
  {
   "cell_type": "code",
   "execution_count": 10,
   "metadata": {},
   "outputs": [
    {
     "data": {
      "text/plain": [
       "288"
      ]
     },
     "execution_count": 10,
     "metadata": {},
     "output_type": "execute_result"
    }
   ],
   "source": [
    "*counter.lock()?\n"
   ]
  },
  {
   "cell_type": "code",
   "execution_count": 11,
   "metadata": {},
   "outputs": [
    {
     "data": {
      "text/plain": [
       "299"
      ]
     },
     "execution_count": 11,
     "metadata": {},
     "output_type": "execute_result"
    }
   ],
   "source": [
    "*counter.lock()?\n"
   ]
  },
  {
   "cell_type": "code",
   "execution_count": 13,
   "metadata": {},
   "outputs": [
    {
     "data": {
      "text/plain": [
       "\"AQIDBA==\""
      ]
     },
     "execution_count": 13,
     "metadata": {},
     "output_type": "execute_result"
    }
   ],
   "source": [
    ":dep base64 = \"0.10.1\"\n",
    "base64::encode(&vec![1, 2, 3, 4])\n"
   ]
  },
  {
   "cell_type": "code",
   "execution_count": 5,
   "metadata": {},
   "outputs": [],
   "source": [
    "pub fn fib(x: i32) -> i32 {\n",
    "    if x <= 2 {2} else {fib(x - 2) + fib(x - 1)}\n",
    "}\n"
   ]
  },
  {
   "cell_type": "code",
   "execution_count": 14,
   "metadata": {},
   "outputs": [],
   "source": [
    "use std::fmt::Debug;\n",
    "pub struct Matrix<T> {pub values: Vec<T>, pub row_size: usize}\n",
    "impl<T: Debug> Matrix<T> {\n",
    "    pub fn evcxr_display(&self) {\n",
    "        let mut html = String::new();\n",
    "        html.push_str(\"<table>\");\n",
    "        for r in 0..(self.values.len() / self.row_size) {\n",
    "            html.push_str(\"<tr>\");\n",
    "            for c in 0..self.row_size {\n",
    "                html.push_str(\"<td>\");\n",
    "                html.push_str(&format!(\"{:?}\", self.values[r * self.row_size + c]));\n",
    "                html.push_str(\"</td>\");\n",
    "            }\n",
    "            html.push_str(\"</tr>\");            \n",
    "        }\n",
    "        html.push_str(\"</table>\");\n",
    "        println!(\"EVCXR_BEGIN_CONTENT text/html\\n{}\\nEVCXR_END_CONTENT\", html);\n",
    "    }\n",
    "}\n"
   ]
  },
  {
   "cell_type": "code",
   "execution_count": 15,
   "metadata": {},
   "outputs": [
    {
     "data": {
      "text/html": [
       "<table><tr><td>1</td><td>2</td><td>3</td></tr><tr><td>4</td><td>5</td><td>6</td></tr><tr><td>7</td><td>8</td><td>9</td></tr></table>"
      ]
     },
     "execution_count": 15,
     "metadata": {},
     "output_type": "execute_result"
    }
   ],
   "source": [
    "let m = Matrix {values: vec![1,2,3,4,5,6,7,8,9], row_size: 3};\n",
    "m\n"
   ]
  },
  {
   "cell_type": "code",
   "execution_count": 18,
   "metadata": {},
   "outputs": [
    {
     "ename": "Error",
     "evalue": "no variant or associated item named `RGB` found for type `image::ColorType` in the current scope",
     "output_type": "error",
     "traceback": [
      "            image::ColorType::RGB(8)).unwrap();",
      "\u001b[91m                              ^^^\u001b[0m \u001b[94mvariant or associated item not found in `image::ColorType`\u001b[0m",
      "no variant or associated item named `RGB` found for type `image::ColorType` in the current scope"
     ]
    },
    {
     "ename": "Error",
     "evalue": "no variant or associated item named `Gray` found for type `image::ColorType` in the current scope",
     "output_type": "error",
     "traceback": [
      "            image::ColorType::Gray(8)).unwrap();",
      "\u001b[91m                              ^^^^\u001b[0m \u001b[94mvariant or associated item not found in `image::ColorType`\u001b[0m",
      "no variant or associated item named `Gray` found for type `image::ColorType` in the current scope"
     ]
    }
   ],
   "source": [
    "extern crate image;\n",
    "extern crate base64;\n",
    "pub trait EvcxrResult {fn evcxr_display(&self);}\n",
    "impl EvcxrResult for image::RgbImage {\n",
    "    fn evcxr_display(&self) {\n",
    "        let mut buffer = Vec::new();\n",
    "        image::png::PNGEncoder::new(&mut buffer).encode(&**self, self.width(), self.height(),\n",
    "            image::ColorType::RGB(8)).unwrap();\n",
    "        let img = base64::encode(&buffer);\n",
    "        println!(\"EVCXR_BEGIN_CONTENT image/png\\n{}\\nEVCXR_END_CONTENT\", img);        \n",
    "    }\n",
    "}\n",
    "impl EvcxrResult for image::GrayImage {\n",
    "    fn evcxr_display(&self) {\n",
    "        let mut buffer = Vec::new();\n",
    "        image::png::PNGEncoder::new(&mut buffer).encode(&**self, self.width(), self.height(),\n",
    "            image::ColorType::Gray(8)).unwrap();\n",
    "        let img = base64::encode(&buffer);\n",
    "        println!(\"EVCXR_BEGIN_CONTENT image/png\\n{}\\nEVCXR_END_CONTENT\", img);        \n",
    "    }\n",
    "}\n"
   ]
  },
  {
   "cell_type": "code",
   "execution_count": null,
   "metadata": {},
   "outputs": [],
   "source": [
    "image::ImageBuffer::from_fn(256, 256, |x, y| {\n",
    "    if (x as i32 - y as i32).abs() < 3 {\n",
    "        image::Rgb([0, 0, 255])\n",
    "    } else {\n",
    "        image::Rgb([0, 0, 0])\n",
    "    }\n",
    "})\n"
   ]
  },
  {
   "cell_type": "code",
   "execution_count": 26,
   "metadata": {},
   "outputs": [],
   "source": [
    ":dep tokio = {version = \"0.2\", features = [\"full\"]}\n"
   ]
  },
  {
   "cell_type": "code",
   "execution_count": 20,
   "metadata": {},
   "outputs": [
    {
     "name": "stderr",
     "output_type": "stream",
     "text": [
      "invalid port value\n"
     ]
    }
   ],
   "source": [
    "let mut stream : tokio::net::TcpStream = tokio::net::TcpStream::connect(\"127.0.0.1:99999\").await?;\n"
   ]
  },
  {
   "cell_type": "code",
   "execution_count": 27,
   "metadata": {},
   "outputs": [
    {
     "name": "stderr",
     "output_type": "stream",
     "text": [
      "Connection refused (os error 111)\n"
     ]
    }
   ],
   "source": [
    "let mut stream : tokio::net::TcpStream = tokio::net::TcpStream::connect(\"127.0.0.1:6573\").await?;\n"
   ]
  },
  {
   "cell_type": "code",
   "execution_count": 25,
   "metadata": {},
   "outputs": [
    {
     "ename": "Error",
     "evalue": "cannot find value `stream` in this scope",
     "output_type": "error",
     "traceback": [
      "stream.write(b\"Hello, world!\\n\").await?;",
      "\u001b[91m^^^^^^\u001b[0m \u001b[94mnot found in this scope\u001b[0m",
      "cannot find value `stream` in this scope"
     ]
    }
   ],
   "source": [
    "use tokio::io::AsyncWriteExt;\n",
    "stream.write(b\"Hello, world!\\n\").await?;\n"
   ]
  },
  {
   "cell_type": "code",
   "execution_count": 29,
   "metadata": {},
   "outputs": [
    {
     "data": {
      "text/html": [
       "<table><tr><th>Variable</th><th>Type</th></tr><tr><td>m</td><td>Matrix&lt;i32&gt;</td><tr><tr><td>counter</td><td>std::sync::Arc&lt;std::sync::Mutex&lt;i32&gt;&gt;</td><tr><tr><td>values</td><td>std::vec::Vec&lt;i32&gt;</td><tr></table>"
      ],
      "text/plain": [
       "m: Matrix<i32>\n",
       "counter: std::sync::Arc<std::sync::Mutex<i32>>\n",
       "values: std::vec::Vec<i32>\n"
      ]
     },
     "execution_count": 29,
     "metadata": {},
     "output_type": "execute_result"
    }
   ],
   "source": [
    ":vars"
   ]
  },
  {
   "cell_type": "code",
   "execution_count": 30,
   "metadata": {},
   "outputs": [
    {
     "data": {
      "text/plain": [
       ":vars             List bound variables and their types\n",
       ":opt [level]      Toggle/set optimization level\n",
       ":fmt [format]     Set output formatter (default: {:?}). \n",
       ":efmt [format]    Set the formatter for errors returned by ?\n",
       ":explain          Print explanation of last error\n",
       ":clear            Clear all state, keeping compilation cache\n",
       ":dep              Add dependency. e.g. :dep regex = \"1.0\"\n",
       ":sccache [0|1]    Set whether to use sccache.\n",
       ":linker [linker]  Set/print linker. Supported: system, lld\n",
       ":version          Print Evcxr version\n",
       ":preserve_vars_on_panic [0|1]  Try to keep vars on panic\n",
       "\n",
       "Mostly for development / debugging purposes:\n",
       ":last_compile_dir Print the directory in which we last compiled\n",
       ":timing           Toggle printing of how long evaluations take\n",
       ":last_error_json  Print the last compilation error as JSON (for debugging)\n",
       ":time_passes      Toggle printing of rustc pass times (requires nightly)\n",
       ":internal_debug   Toggle various internal debugging code\n"
      ]
     },
     "execution_count": 30,
     "metadata": {},
     "output_type": "execute_result"
    }
   ],
   "source": [
    ":help"
   ]
  },
  {
   "cell_type": "code",
   "execution_count": 32,
   "metadata": {},
   "outputs": [
    {
     "ename": "Error",
     "evalue": "cannot assign twice to immutable variable `_immutable_binding`",
     "output_type": "error",
     "traceback": [
      "let _immutable_binding = 1;",
      "\u001b[91m    ^^^^^^^^^^^^^^^^^^\u001b[0m \u001b[94mfirst assignment to `_immutable_binding`\u001b[0m",
      "_immutable_binding += 1;",
      "\u001b[91m^^^^^^^^^^^^^^^^^^^^^^^\u001b[0m \u001b[94mcannot assign twice to immutable variable\u001b[0m",
      "cannot assign twice to immutable variable `_immutable_binding`"
     ]
    }
   ],
   "source": [
    "let _immutable_binding = 1;\n",
    "let mut mutable_binding = 1;\n",
    "\n",
    "println!(\"Before mutation: {}\", mutable_binding);\n",
    "\n",
    "// Ok\n",
    "mutable_binding += 1;\n",
    "\n",
    "println!(\"After mutation: {}\", mutable_binding);\n",
    "_immutable_binding += 1;\n"
   ]
  }
 ],
 "metadata": {
  "kernelspec": {
   "display_name": "Rust",
   "language": "rust",
   "name": "rust"
  },
  "language_info": {
   "codemirror_mode": "rust",
   "file_extension": ".rs",
   "mimetype": "text/rust",
   "name": "Rust",
   "pygment_lexer": "rust",
   "version": ""
  }
 },
 "nbformat": 4,
 "nbformat_minor": 4
}
